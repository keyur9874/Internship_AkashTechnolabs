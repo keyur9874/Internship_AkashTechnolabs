{
 "cells": [
  {
   "cell_type": "code",
   "execution_count": 1,
   "metadata": {},
   "outputs": [
    {
     "name": "stdout",
     "output_type": "stream",
     "text": [
      "Hello Nirav\n"
     ]
    }
   ],
   "source": [
    "# Simple function\n",
    "\n",
    "def function1():\n",
    "    print('Hello Keyur')\n",
    "\n",
    "function1()"
   ]
  },
  {
   "cell_type": "code",
   "execution_count": 2,
   "metadata": {},
   "outputs": [
    {
     "name": "stdout",
     "output_type": "stream",
     "text": [
      "Hello Nirav Khanpara\n"
     ]
    }
   ],
   "source": [
    "# Function with argument\n",
    "\n",
    "def function2(name):\n",
    "    print('Hello',name)\n",
    "\n",
    "function2('Keyur')  "
   ]
  },
  {
   "cell_type": "code",
   "execution_count": 3,
   "metadata": {},
   "outputs": [
    {
     "name": "stdout",
     "output_type": "stream",
     "text": [
      "Hello Nirav Khanpara\n"
     ]
    }
   ],
   "source": [
    "# Function with return value\n",
    "\n",
    "def function3(name):\n",
    "    return 'Hello '+name\n",
    "\n",
    "name = function3('Keyur')  \n",
    "print(name)"
   ]
  },
  {
   "cell_type": "code",
   "execution_count": 4,
   "metadata": {},
   "outputs": [
    {
     "name": "stdout",
     "output_type": "stream",
     "text": [
      "Hello Nirav Khanpara\n",
      "Welcome\n"
     ]
    }
   ],
   "source": [
    "# More than 1 return values\n",
    "\n",
    "def function4(name):\n",
    "    return 'Hello '+name, 'Welcome'\n",
    "\n",
    "name, greetings = function4('Keyur')  \n",
    "print(name)\n",
    "print(greetings)"
   ]
  },
  {
   "cell_type": "code",
   "execution_count": 5,
   "metadata": {},
   "outputs": [
    {
     "name": "stdout",
     "output_type": "stream",
     "text": [
      "User : Default\n",
      "User : Nirav Khanpara\n"
     ]
    }
   ],
   "source": [
    "# Default arguments\n",
    "\n",
    "def function5(name='Default'):\n",
    "    print('User :',name)\n",
    "\n",
    "function5()\n",
    "function5('Keyur')"
   ]
  },
  {
   "cell_type": "code",
   "execution_count": 6,
   "metadata": {},
   "outputs": [
    {
     "name": "stdout",
     "output_type": "stream",
     "text": [
      "User : Nirav Khanpara\n",
      "Age : 19\n",
      "User : Nirav\n",
      "Age : 22\n"
     ]
    }
   ],
   "source": [
    "# Keyword Arguments(fixed)\n",
    "\n",
    "def function6(name='Default', age=18):\n",
    "    print('User :',name)\n",
    "    print('Age :',age)\n",
    "\n",
    "function6('Keyur',19)\n",
    "function6(age=22, name='Keyur')"
   ]
  },
  {
   "cell_type": "code",
   "execution_count": 7,
   "metadata": {},
   "outputs": [
    {
     "name": "stdout",
     "output_type": "stream",
     "text": [
      "Sum is : 54\n",
      "Sum is : 26\n"
     ]
    }
   ],
   "source": [
    "# Non Keyword Arguments(variable)\n",
    "\n",
    "def add(*numbers):\n",
    "    sum=0\n",
    "    for n in numbers:\n",
    "        sum+=n\n",
    "    print('Sum is :',sum)\n",
    "    \n",
    "add(12,13,14,15)\n",
    "add(13,13)"
   ]
  },
  {
   "cell_type": "code",
   "execution_count": 8,
   "metadata": {},
   "outputs": [
    {
     "name": "stdout",
     "output_type": "stream",
     "text": [
      "name : Nick\n",
      "name : Nick\n",
      "age : 20\n",
      "phone : 11111\n"
     ]
    }
   ],
   "source": [
    "# Keyword Arguments(variable)\n",
    "\n",
    "def info(**data):\n",
    "    for i,j in data.items():\n",
    "        print(i,':',j)\n",
    "    \n",
    "info(name='Nick')\n",
    "info(name='Nick',age='20',phone='11111')"
   ]
  },
  {
   "cell_type": "code",
   "execution_count": 9,
   "metadata": {},
   "outputs": [
    {
     "name": "stdout",
     "output_type": "stream",
     "text": [
      "Outside function : 10\n",
      "Inside function : 99\n"
     ]
    }
   ],
   "source": [
    "# Variable Scope\n",
    "\n",
    "z=10\n",
    "def scope():\n",
    "    z=99\n",
    "    print('Inside function :',z)\n",
    "    \n",
    "print('Outside function :',z)\n",
    "scope()"
   ]
  },
  {
   "cell_type": "code",
   "execution_count": 10,
   "metadata": {},
   "outputs": [
    {
     "name": "stdout",
     "output_type": "stream",
     "text": [
      "Hello Nirav Welcome\n"
     ]
    }
   ],
   "source": [
    "# Model Import\n",
    "\n",
    "import base\n",
    "\n",
    "base.base_function('Keyur')"
   ]
  },
  {
   "cell_type": "code",
   "execution_count": 11,
   "metadata": {},
   "outputs": [
    {
     "name": "stdout",
     "output_type": "stream",
     "text": [
      "x+y : 25\n",
      "x-y : 15\n",
      "x*y : 100\n",
      "x/y : 4.0\n",
      "x%y : 0\n",
      "x//y : 4\n",
      "x**y : 3200000\n"
     ]
    }
   ],
   "source": [
    "# Arithmetic Function\n",
    "\n",
    "x=20\n",
    "y=5\n",
    "\n",
    "print('x+y :',x+y)\n",
    "print('x-y :',x-y)\n",
    "print('x*y :',x*y)\n",
    "print('x/y :',x/y)\n",
    "print('x%y :',x%y)\n",
    "print('x//y :',x//y)\n",
    "print('x**y :',x**y)"
   ]
  },
  {
   "cell_type": "code",
   "execution_count": 12,
   "metadata": {},
   "outputs": [
    {
     "name": "stdout",
     "output_type": "stream",
     "text": [
      "x>y : True\n",
      "x<y : False\n",
      "x==y : False\n",
      "x!=y : True\n",
      "x>=y : True\n",
      "x<=y : False\n"
     ]
    }
   ],
   "source": [
    "# Comparison Function\n",
    "\n",
    "x=20\n",
    "y=5\n",
    "\n",
    "print('x>y :',x>y)\n",
    "print('x<y :',x<y)\n",
    "print('x==y :',x==y)\n",
    "print('x!=y :',x!=y)\n",
    "print('x>=y :',x>=y)\n",
    "print('x<=y :',x<=y)\n"
   ]
  },
  {
   "cell_type": "code",
   "execution_count": 13,
   "metadata": {},
   "outputs": [
    {
     "name": "stdout",
     "output_type": "stream",
     "text": [
      "x and y : False\n",
      "x or y : True\n",
      "not y : True\n"
     ]
    }
   ],
   "source": [
    "# Logical Function\n",
    "\n",
    "x=True\n",
    "y=False\n",
    "\n",
    "print('x and y :',x and y)\n",
    "print('x or y :',x or y)\n",
    "print('not y :',not y)"
   ]
  },
  {
   "cell_type": "code",
   "execution_count": 14,
   "metadata": {},
   "outputs": [
    {
     "name": "stdout",
     "output_type": "stream",
     "text": [
      "x=3 : 3\n",
      "x+=3 : 6\n",
      "x-=1 : 5\n",
      "x*=9 : 45\n",
      "x/=2 : 22.5\n",
      "x%=8 : 6.5\n",
      "x//=2 : 3.0\n",
      "x**=3 : 27.0\n"
     ]
    }
   ],
   "source": [
    "# Assignment Function\n",
    "\n",
    "x=3\n",
    "print('x=3 :',x)\n",
    "x+=3\n",
    "print('x+=3 :',x)\n",
    "x-=1\n",
    "print('x-=1 :',x)\n",
    "x*=9\n",
    "print('x*=9 :',x)\n",
    "x/=2\n",
    "print('x/=2 :',x)\n",
    "x%=8\n",
    "print('x%=8 :',x)\n",
    "x//=2\n",
    "print('x//=2 :',x)\n",
    "x**=3\n",
    "print('x**=3 :',x)"
   ]
  },
  {
   "cell_type": "code",
   "execution_count": 15,
   "metadata": {},
   "outputs": [
    {
     "name": "stdout",
     "output_type": "stream",
     "text": [
      "True\n",
      "False\n",
      "True\n",
      "False\n"
     ]
    }
   ],
   "source": [
    "# Membership and Identity operators\n",
    "\n",
    "lst=[1,2,3,4]\n",
    "\n",
    "print(1 in lst)\n",
    "print(3 not in lst)\n",
    "\n",
    "x=12\n",
    "y=12\n",
    "print(x is y)\n",
    "\n",
    "x=12\n",
    "y=12.0\n",
    "print(x is y)\n"
   ]
  },
  {
   "cell_type": "code",
   "execution_count": null,
   "metadata": {},
   "outputs": [],
   "source": []
  }
 ],
 "metadata": {
  "kernelspec": {
   "display_name": "Python 3",
   "language": "python",
   "name": "python3"
  },
  "language_info": {
   "codemirror_mode": {
    "name": "ipython",
    "version": 3
   },
   "file_extension": ".py",
   "mimetype": "text/x-python",
   "name": "python",
   "nbconvert_exporter": "python",
   "pygments_lexer": "ipython3",
   "version": "3.7.6"
  }
 },
 "nbformat": 4,
 "nbformat_minor": 2
}
